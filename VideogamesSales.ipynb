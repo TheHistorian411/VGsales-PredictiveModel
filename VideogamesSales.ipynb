{
 "cells": [
  {
   "cell_type": "code",
   "execution_count": 773,
   "id": "ea2dc337-3219-4853-8f50-56208b7d11eb",
   "metadata": {},
   "outputs": [
    {
     "name": "stdout",
     "output_type": "stream",
     "text": [
      "R^2 = 13% & MAE = 55%\n"
     ]
    }
   ],
   "source": [
    "import pandas as pd\n",
    "import numpy as np\n",
    "from sklearn.model_selection import train_test_split\n",
    "from sklearn.metrics import mean_absolute_error\n",
    "from sklearn.metrics import r2_score\n",
    "from sklearn.ensemble import GradientBoostingRegressor\n",
    "from sklearn.impute import SimpleImputer\n",
    "\n",
    "df = pd.read_csv('vgsales.csv')\n",
    "X = df.drop(columns=['Rank', 'NA_Sales', 'EU_Sales', 'JP_Sales', 'Other_Sales', 'Global_Sales', 'Name', 'Year'])\n",
    "\n",
    "# X['Platform'] = X['Platform'].astype('category').cat.codes.astype(float)\n",
    "# X['Genre'] = X['Genre'].astype('category').cat.codes.astype(float)\n",
    "# X['Publisher'] = X['Publisher'].astype('category').cat.codes.astype(float)\n",
    "\n",
    "imputer = SimpleImputer(strategy='mean')\n",
    "# X = imputer.fit_transform(X)\n",
    "\n",
    "y = df.drop(columns=['Name', 'Platform', 'Year', 'Genre', 'Publisher','Rank', 'NA_Sales', 'EU_Sales', 'JP_Sales', 'Other_Sales'])\n",
    "y = imputer.fit_transform(y)\n",
    "\n",
    "X_train,X_test,y_train,y_test = train_test_split(X_poly,y,test_size=0.25)\n",
    "\n",
    "model = GradientBoostingRegressor()\n",
    "model.fit(X_train,y_train.ravel())\n",
    "predictions = model.predict(X_test)\n",
    "\n",
    "\n",
    "r2 = r2_score(y_test, predictions)\n",
    "score = mean_absolute_error(y_test, predictions)\n",
    "print(\"R^2 = \" + str(int(r2*100)) + \"% & MAE = \" + str(int(score*100)) + \"%\")"
   ]
  }
 ],
 "metadata": {
  "kernelspec": {
   "display_name": "Python 3 (ipykernel)",
   "language": "python",
   "name": "python3"
  },
  "language_info": {
   "codemirror_mode": {
    "name": "ipython",
    "version": 3
   },
   "file_extension": ".py",
   "mimetype": "text/x-python",
   "name": "python",
   "nbconvert_exporter": "python",
   "pygments_lexer": "ipython3",
   "version": "3.13.5"
  }
 },
 "nbformat": 4,
 "nbformat_minor": 5
}
